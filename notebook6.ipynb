{
 "cells": [
  {
   "cell_type": "code",
   "execution_count": null,
   "metadata": {},
   "outputs": [],
   "source": [
    "from langchain.chat_models import ChatOpenAI\n",
    "from langchain.callbacks import StreamingStdOutCallbackHandler\n",
    "from langchain.globals import set_llm_cache, set_debug\n",
    "from langchain.cache import InMemoryCache, SQLiteCache\n",
    "\n",
    "# LLM(Language Learning Model)의 응답을 메모리에 저장하도록 설정\n",
    "set_llm_cache(InMemoryCache())\n",
    "# 디버그 모드 활성화\n",
    "set_debug(True)\n",
    "\n",
    "# OpenAI 챗봇 모델 설정\n",
    "chat = ChatOpenAI(\n",
    "    temperature=0.1,\n",
    "    # 스트리밍 및 콜백은 이 예제에서 주석 처리되어 있음\n",
    "    #streaming=True,\n",
    "    #callbacks=[StreamingStdOutCallbackHandler()],\n",
    ")\n",
    "\n",
    "# 예측 실행\n",
    "# 첫 번째 실행은 28초 소요, 두 번째 실행은 캐시 사용으로 0초 소요\n",
    "chat.predict(\"How do you make Italian pasta\")\n"
   ]
  },
  {
   "cell_type": "code",
   "execution_count": 8,
   "metadata": {},
   "outputs": [
    {
     "name": "stdout",
     "output_type": "stream",
     "text": [
      "\u001b[32;1m\u001b[1;3m[llm/start]\u001b[0m \u001b[1m[1:llm:ChatOpenAI] Entering LLM run with input:\n",
      "\u001b[0m{\n",
      "  \"prompts\": [\n",
      "    \"Human: How do you make Italian pasta\"\n",
      "  ]\n",
      "}\n",
      "\u001b[36;1m\u001b[1;3m[llm/end]\u001b[0m \u001b[1m[1:llm:ChatOpenAI] [28.90s] Exiting LLM run with output:\n",
      "\u001b[0m{\n",
      "  \"generations\": [\n",
      "    [\n",
      "      {\n",
      "        \"text\": \"To make Italian pasta, you will need the following ingredients:\\n\\n- 2 cups of all-purpose flour\\n- 2 large eggs\\n- 1/2 teaspoon of salt\\n- Water (if needed)\\n\\nHere's a step-by-step guide to making Italian pasta:\\n\\n1. On a clean surface or in a large mixing bowl, pour the flour and create a well in the center.\\n2. Crack the eggs into the well and add the salt.\\n3. Using a fork or your fingers, gradually mix the eggs and salt into the flour, incorporating a little at a time.\\n4. Once the dough starts to come together, knead it with your hands until it forms a smooth and elastic ball. If the dough is too dry, add a little water, one tablespoon at a time, until it reaches the desired consistency. If it's too wet, add a little more flour.\\n5. Once the dough is formed, cover it with a clean kitchen towel or plastic wrap and let it rest for about 30 minutes. This allows the gluten to relax and makes the dough easier to work with.\\n6. After resting, divide the dough into smaller portions. Take one portion and flatten it with your hands or a rolling pin until it's about 1/4 inch thick.\\n7. If you have a pasta machine, pass the dough through the machine, starting with the widest setting and gradually decreasing the thickness until you reach the desired thickness for your pasta. If you don't have a pasta machine, you can use a rolling pin to roll out the dough until it's thin enough.\\n8. Once the dough is rolled out, you can cut it into your desired pasta shape. For example, you can cut it into thin strips for spaghetti or wider strips for fettuccine. You can also use a pasta machine attachment to cut the dough into different shapes.\\n9. After cutting the pasta, you can cook it immediately in a large pot of boiling salted water for about 2-3 minutes or until al dente. Alternatively, you can let the pasta dry for a few hours or overnight before cooking.\\n10. Once cooked, drain the pasta and serve it with your favorite sauce or toppings.\\n\\nEnjoy your homemade Italian pasta!\",\n",
      "        \"generation_info\": {\n",
      "          \"finish_reason\": \"stop\"\n",
      "        },\n",
      "        \"type\": \"ChatGeneration\",\n",
      "        \"message\": {\n",
      "          \"lc\": 1,\n",
      "          \"type\": \"constructor\",\n",
      "          \"id\": [\n",
      "            \"langchain\",\n",
      "            \"schema\",\n",
      "            \"messages\",\n",
      "            \"AIMessage\"\n",
      "          ],\n",
      "          \"kwargs\": {\n",
      "            \"content\": \"To make Italian pasta, you will need the following ingredients:\\n\\n- 2 cups of all-purpose flour\\n- 2 large eggs\\n- 1/2 teaspoon of salt\\n- Water (if needed)\\n\\nHere's a step-by-step guide to making Italian pasta:\\n\\n1. On a clean surface or in a large mixing bowl, pour the flour and create a well in the center.\\n2. Crack the eggs into the well and add the salt.\\n3. Using a fork or your fingers, gradually mix the eggs and salt into the flour, incorporating a little at a time.\\n4. Once the dough starts to come together, knead it with your hands until it forms a smooth and elastic ball. If the dough is too dry, add a little water, one tablespoon at a time, until it reaches the desired consistency. If it's too wet, add a little more flour.\\n5. Once the dough is formed, cover it with a clean kitchen towel or plastic wrap and let it rest for about 30 minutes. This allows the gluten to relax and makes the dough easier to work with.\\n6. After resting, divide the dough into smaller portions. Take one portion and flatten it with your hands or a rolling pin until it's about 1/4 inch thick.\\n7. If you have a pasta machine, pass the dough through the machine, starting with the widest setting and gradually decreasing the thickness until you reach the desired thickness for your pasta. If you don't have a pasta machine, you can use a rolling pin to roll out the dough until it's thin enough.\\n8. Once the dough is rolled out, you can cut it into your desired pasta shape. For example, you can cut it into thin strips for spaghetti or wider strips for fettuccine. You can also use a pasta machine attachment to cut the dough into different shapes.\\n9. After cutting the pasta, you can cook it immediately in a large pot of boiling salted water for about 2-3 minutes or until al dente. Alternatively, you can let the pasta dry for a few hours or overnight before cooking.\\n10. Once cooked, drain the pasta and serve it with your favorite sauce or toppings.\\n\\nEnjoy your homemade Italian pasta!\",\n",
      "            \"additional_kwargs\": {}\n",
      "          }\n",
      "        }\n",
      "      }\n",
      "    ]\n",
      "  ],\n",
      "  \"llm_output\": {\n",
      "    \"token_usage\": {\n",
      "      \"prompt_tokens\": 13,\n",
      "      \"completion_tokens\": 451,\n",
      "      \"total_tokens\": 464\n",
      "    },\n",
      "    \"model_name\": \"gpt-3.5-turbo\",\n",
      "    \"system_fingerprint\": null\n",
      "  },\n",
      "  \"run\": null\n",
      "}\n"
     ]
    },
    {
     "data": {
      "text/plain": [
       "\"To make Italian pasta, you will need the following ingredients:\\n\\n- 2 cups of all-purpose flour\\n- 2 large eggs\\n- 1/2 teaspoon of salt\\n- Water (if needed)\\n\\nHere's a step-by-step guide to making Italian pasta:\\n\\n1. On a clean surface or in a large mixing bowl, pour the flour and create a well in the center.\\n2. Crack the eggs into the well and add the salt.\\n3. Using a fork or your fingers, gradually mix the eggs and salt into the flour, incorporating a little at a time.\\n4. Once the dough starts to come together, knead it with your hands until it forms a smooth and elastic ball. If the dough is too dry, add a little water, one tablespoon at a time, until it reaches the desired consistency. If it's too wet, add a little more flour.\\n5. Once the dough is formed, cover it with a clean kitchen towel or plastic wrap and let it rest for about 30 minutes. This allows the gluten to relax and makes the dough easier to work with.\\n6. After resting, divide the dough into smaller portions. Take one portion and flatten it with your hands or a rolling pin until it's about 1/4 inch thick.\\n7. If you have a pasta machine, pass the dough through the machine, starting with the widest setting and gradually decreasing the thickness until you reach the desired thickness for your pasta. If you don't have a pasta machine, you can use a rolling pin to roll out the dough until it's thin enough.\\n8. Once the dough is rolled out, you can cut it into your desired pasta shape. For example, you can cut it into thin strips for spaghetti or wider strips for fettuccine. You can also use a pasta machine attachment to cut the dough into different shapes.\\n9. After cutting the pasta, you can cook it immediately in a large pot of boiling salted water for about 2-3 minutes or until al dente. Alternatively, you can let the pasta dry for a few hours or overnight before cooking.\\n10. Once cooked, drain the pasta and serve it with your favorite sauce or toppings.\\n\\nEnjoy your homemade Italian pasta!\""
      ]
     },
     "execution_count": 8,
     "metadata": {},
     "output_type": "execute_result"
    }
   ],
   "source": [
    "from langchain.chat_models import ChatOpenAI\n",
    "from langchain.callbacks import StreamingStdOutCallbackHandler\n",
    "from langchain.globals import set_llm_cache, set_debug\n",
    "from langchain.cache import InMemoryCache, SQLiteCache\n",
    "\n",
    "# 모든 응답을 데이터베이스에 저장하도록 설정\n",
    "# 'cache.db' 파일은 자동으로 생성됩니다.\n",
    "set_llm_cache(SQLiteCache(\"cache.db\"))\n",
    "# 디버그 모드 활성화\n",
    "set_debug(True)\n",
    "\n",
    "# OpenAI 챗봇 모델 설정\n",
    "chat = ChatOpenAI(\n",
    "    temperature=0.1,\n",
    "    # 스트리밍 및 콜백은 이 예제에서 주석 처리되어 있음\n",
    "    #streaming=True,\n",
    "    #callbacks=[StreamingStdOutCallbackHandler()],\n",
    ")\n",
    "\n",
    "# 예측 실행\n",
    "# 첫 번째 실행 시간은 28초\n",
    "chat.predict(\"How do you make Italian pasta\")\n"
   ]
  }
 ],
 "metadata": {
  "kernelspec": {
   "display_name": "env",
   "language": "python",
   "name": "python3"
  },
  "language_info": {
   "codemirror_mode": {
    "name": "ipython",
    "version": 3
   },
   "file_extension": ".py",
   "mimetype": "text/x-python",
   "name": "python",
   "nbconvert_exporter": "python",
   "pygments_lexer": "ipython3",
   "version": "3.11.5"
  }
 },
 "nbformat": 4,
 "nbformat_minor": 2
}
