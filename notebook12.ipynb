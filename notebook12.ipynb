{
 "cells": [
  {
   "cell_type": "code",
   "execution_count": 7,
   "metadata": {},
   "outputs": [
    {
     "data": {
      "text/plain": [
       "{'history': 'On Jacob: Jacob love making web site.'}"
      ]
     },
     "execution_count": 7,
     "metadata": {},
     "output_type": "execute_result"
    }
   ],
   "source": [
    "from langchain.memory import ConversationKGMemory\n",
    "from langchain.chat_models import ChatOpenAI\n",
    "\n",
    "# OpenAI 챗봇 모델 설정\n",
    "llm = ChatOpenAI(temperature=0.1)\n",
    "\n",
    "# 대화 지식 그래프 메모리 초기화\n",
    "# 이 메모리는 대화 내용을 구조화된 형태로 관리합니다.\n",
    "memory = ConversationKGMemory(\n",
    "    llm = llm,\n",
    "    return_message=True\n",
    ")\n",
    "\n",
    "# 대화 메시지를 추가하는 함수\n",
    "def add_message(input, output):\n",
    "    memory.save_context({\"input\": input},{\"output\": output})\n",
    "\n",
    "# 대화 메시지 추가\n",
    "add_message(\"Jacob love making web site\", \"Wow that is so cooool!\")\n",
    "\n",
    "# 대화 기록을 기반으로 정보 로드\n",
    "memory.load_memory_variables({\"input\": \"what does Jacob like\"})\n",
    "\n",
    "# 이 스크립트는 ConversationKGMemory를 활용하여 챗봇의 대화 기록을 지식 그래프 형태로 관리합니다. \n",
    "# 대화의 입력(input)과 출력(output)을 저장하고, 이를 통해 대화 내용을 구조화된 형태로 기록하고 관리할 수 있습니다. \n",
    "# 이 방식은 대화의 맥락을 더욱 명확하게 파악하고, 효율적으로 정보를 추출하는 데 유용합니다."
   ]
  }
 ],
 "metadata": {
  "kernelspec": {
   "display_name": "env",
   "language": "python",
   "name": "python3"
  },
  "language_info": {
   "codemirror_mode": {
    "name": "ipython",
    "version": 3
   },
   "file_extension": ".py",
   "mimetype": "text/x-python",
   "name": "python",
   "nbconvert_exporter": "python",
   "pygments_lexer": "ipython3",
   "version": "3.11.5"
  }
 },
 "nbformat": 4,
 "nbformat_minor": 2
}
