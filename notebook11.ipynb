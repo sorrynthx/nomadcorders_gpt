{
 "cells": [
  {
   "cell_type": "code",
   "execution_count": 3,
   "metadata": {},
   "outputs": [],
   "source": [
    "from langchain.memory import ConversationSummaryBufferMemory\n",
    "from langchain.chat_models import ChatOpenAI\n",
    "\n",
    "# OpenAI 챗봇 모델 설정\n",
    "llm = ChatOpenAI(temperature=0.1)\n",
    "\n",
    "# 대화 요약 버퍼 메모리 초기화\n",
    "# max_token_limit=150은 저장할 토큰의 최대 수를 제한합니다.\n",
    "memory = ConversationSummaryBufferMemory(\n",
    "    llm=llm,\n",
    "    max_token_limit=150,\n",
    "    return_message=True,\n",
    ")\n",
    "\n",
    "# 대화 메시지를 추가하는 함수\n",
    "def add_message(input, output):\n",
    "    memory.save_context({\"input\":input},{\"output\":output})\n",
    "    \n",
    "# 대화 기록을 가져오는 함수\n",
    "def get_history():\n",
    "    return memory.load_memory_variables({})\n",
    "\n",
    "# 대화 메시지 추가\n",
    "add_message(\"Hi I'm Jacob, I live in South Korea\", \"Wow That is so cool!\")\n",
    "\n",
    "# 대화 기록 가져오기\n",
    "get_history()\n",
    "\n",
    "# 또 다른 대화 메시지 추가\n",
    "add_message(\"South Korea is so pretty\", \"I wish I could go !!!\")\n",
    "\n",
    "# 대화 기록 가져오기\n",
    "get_history()\n",
    "\n",
    "#이 스크립트는 ConversationSummaryBufferMemory를 활용하여 챗봇의 대화 기록을 관리하고 요약합니다. \n",
    "# max_token_limit을 설정하여 저장할 수 있는 토큰의 최대 수를 제한하고, \n",
    "# 이를 통해 대화의 핵심 내용을 효율적으로 요약하고 관리할 수 있습니다. \n",
    "# 대화의 입력(input)과 출력(output)을 저장하고, 저장된 대화 기록을 토큰 제한을 고려하여 요약하여 \n",
    "# 필요에 따라 추출할 수 있습니다. 이 방식은 대화의 중요한 부분을 요약하고, \n",
    "# 메모리 사용량을 최적화하는 데 유용합니다.\n"
   ]
  },
  {
   "cell_type": "code",
   "execution_count": 5,
   "metadata": {},
   "outputs": [
    {
     "data": {
      "text/plain": [
       "{'history': \"Human: Hi I'm Jacob, I live in South Korea\\nAI: Wow That is so cool!\"}"
      ]
     },
     "execution_count": 5,
     "metadata": {},
     "output_type": "execute_result"
    }
   ],
   "source": [
    "get_history()"
   ]
  },
  {
   "cell_type": "code",
   "execution_count": 6,
   "metadata": {},
   "outputs": [],
   "source": [
    "add_message(\"South Korea is so pretty\", \"I wish I could go !!!\")"
   ]
  },
  {
   "cell_type": "code",
   "execution_count": 7,
   "metadata": {},
   "outputs": [
    {
     "data": {
      "text/plain": [
       "{'history': \"Human: Hi I'm Jacob, I live in South Korea\\nAI: Wow That is so cool!\\nHuman: South Korea is so pretty\\nAI: I wish I could go !!!\"}"
      ]
     },
     "execution_count": 7,
     "metadata": {},
     "output_type": "execute_result"
    }
   ],
   "source": [
    "get_history()"
   ]
  },
  {
   "cell_type": "code",
   "execution_count": 8,
   "metadata": {},
   "outputs": [],
   "source": [
    "add_message(\"How far is Korea from Argentina ?\", \"I don't know Super far !!!\")"
   ]
  },
  {
   "cell_type": "code",
   "execution_count": 9,
   "metadata": {},
   "outputs": [
    {
     "data": {
      "text/plain": [
       "{'history': \"Human: Hi I'm Jacob, I live in South Korea\\nAI: Wow That is so cool!\\nHuman: South Korea is so pretty\\nAI: I wish I could go !!!\\nHuman: How far is Korea from Argentina ?\\nAI: I don't know Super far !!!\"}"
      ]
     },
     "execution_count": 9,
     "metadata": {},
     "output_type": "execute_result"
    }
   ],
   "source": [
    "get_history()"
   ]
  },
  {
   "cell_type": "code",
   "execution_count": 16,
   "metadata": {},
   "outputs": [],
   "source": [
    "add_message(\"How far is Brazil from Argentina ?\", \"I don't know Super far !!!\")"
   ]
  },
  {
   "cell_type": "code",
   "execution_count": 17,
   "metadata": {},
   "outputs": [
    {
     "data": {
      "text/plain": [
       "{'history': \"System: The human introduces themselves as Jacob and mentions that they live in South Korea. The AI responds by expressing excitement and finding it cool, and also expresses a desire to visit South Korea because it is pretty.\\nHuman: How far is Korea from Argentina ?\\nAI: I don't know Super far !!!\\nHuman: How far is Brazil from Argentina ?\\nAI: I don't know Super far !!!\\nHuman: How far is Brazil from Argentina ?\\nAI: I don't know Super far !!!\\nHuman: How far is Brazil from Argentina ?\\nAI: I don't know Super far !!!\\nHuman: How far is Brazil from Argentina ?\\nAI: I don't know Super far !!!\\nHuman: How far is Brazil from Argentina ?\\nAI: I don't know Super far !!!\"}"
      ]
     },
     "execution_count": 17,
     "metadata": {},
     "output_type": "execute_result"
    }
   ],
   "source": [
    "get_history()"
   ]
  }
 ],
 "metadata": {
  "kernelspec": {
   "display_name": "env",
   "language": "python",
   "name": "python3"
  },
  "language_info": {
   "codemirror_mode": {
    "name": "ipython",
    "version": 3
   },
   "file_extension": ".py",
   "mimetype": "text/x-python",
   "name": "python",
   "nbconvert_exporter": "python",
   "pygments_lexer": "ipython3",
   "version": "3.11.5"
  }
 },
 "nbformat": 4,
 "nbformat_minor": 2
}
