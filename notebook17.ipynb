{
 "cells": [
  {
   "cell_type": "code",
   "execution_count": 38,
   "metadata": {},
   "outputs": [],
   "source": [
    "from langchain.chat_models import ChatOpenAI\n",
    "from langchain.document_loaders import PyPDFLoader\n",
    "from langchain.document_loaders import UnstructuredFileLoader\n",
    "from langchain.text_splitter import CharacterTextSplitter\n",
    "from langchain.embeddings import OpenAIEmbeddings, CacheBackedEmbeddings\n",
    "from langchain.vectorstores import Chroma\n",
    "from langchain.storage import LocalFileStore\n",
    "\n",
    "cache_dir = LocalFileStore(\"./.cache/\")\n",
    "\n",
    "splitter = CharacterTextSplitter.from_tiktoken_encoder(\n",
    "    separator=\"\\n\",\n",
    "    chunk_size=600,\n",
    "    chunk_overlap=100,\n",
    ")\n",
    "\n",
    "loader = UnstructuredFileLoader(\"./files/chapter_one.docx\")\n",
    "\n",
    "docs = loader.load_and_split(text_splitter=splitter)\n",
    "\n",
    "embeddings = OpenAIEmbeddings()\n",
    "\n",
    "cached_embeddings = CacheBackedEmbeddings.from_bytes_store(embeddings, cache_dir)\n",
    "\n",
    "vectorstore = Chroma.from_documents(docs, cached_embeddings)\n"
   ]
  },
  {
   "cell_type": "code",
   "execution_count": null,
   "metadata": {},
   "outputs": [],
   "source": [
    "# langchain의 chat_models에서 ChatOpenAI를 가져옵니다. 이는 OpenAI의 챗봇 모델을 이용할 수 있게 해줍니다.\n",
    "from langchain.chat_models import ChatOpenAI\n",
    "# 문서 로더를 가져옵니다. PyPDFLoader는 PDF 파일을, \n",
    "from langchain.document_loaders import PyPDFLoader\n",
    "# UnstructuredFileLoader는 구조화되지 않은 파일(예: DOCX)을 로드하는 데 사용됩니다.\n",
    "from langchain.document_loaders import UnstructuredFileLoader\n",
    "# 텍스트를 분할하는 클래스를 가져옵니다. 이 클래스는 텍스트를 주어진 구분자나 크기에 따라 분할합니다.\n",
    "from langchain.text_splitter import CharacterTextSplitter\n",
    "# OpenAI의 임베딩과 캐시 지원 임베딩 클래스를 가져옵니다. 이들은 텍스트의 벡터 표현을 생성하는 데 사용됩니다.\n",
    "from langchain.embeddings import OpenAIEmbeddings, CacheBackedEmbeddings\n",
    "# 벡터 스토어를 가져옵니다. Chroma는 임베딩을 기반으로 문서의 벡터 표현을 저장하고 검색하는 데 사용됩니다.\n",
    "from langchain.vectorstores import Chroma\n",
    "# 로컬 파일 시스템에 데이터를 저장할 수 있는 스토리지 클래스를 가져옵니다.\n",
    "from langchain.storage import LocalFileStore\n",
    "\n",
    "cache_dir = LocalFileStore(\"./.cache/\")  # 캐시를 저장할 디렉토리를 설정합니다.\n",
    "\n",
    "splitter = CharacterTextSplitter.from_tiktoken_encoder(\n",
    "    separator=\"\\n\",\n",
    "    chunk_size=600,\n",
    "    chunk_overlap=100,\n",
    ")  # 텍스트 분할 규칙을 설정합니다.\n",
    "\n",
    "loader = UnstructuredFileLoader(\"./files/chapter_one.docx\")  # DOCX 파일을 로드합니다.\n",
    "\n",
    "docs = loader.load_and_split(text_splitter=splitter)  # 파일을 로드하고 분할합니다.\n",
    "\n",
    "embeddings = OpenAIEmbeddings()  # OpenAI 임베딩 인스턴스를 생성합니다.\n",
    "\n",
    "cached_embeddings = CacheBackedEmbeddings.from_bytes_store(embeddings, cache_dir)  # 임베딩을 캐시에 저장합니다.\n",
    "\n",
    "vectorstore = Chroma.from_documents(docs, cached_embeddings)  # 문서들의 벡터 스토어를 생성합니다.\n"
   ]
  },
  {
   "cell_type": "markdown",
   "metadata": {},
   "source": [
    "Source -> Load -> Transform -> Embed -> Store -> Retrieve\n",
    "\n",
    "오늘 배운 내용은 langchain 라이브러리를 활용하여 구조화되지 않은 문서 파일을 로드하고, 텍스트를 적절한 크기로 분할한 후, 이를 OpenAI의 임베딩으로 변환하여 로컬 캐시에 저장하는 과정입니다. 마지막으로, 이 임베딩들을 Chroma 벡터 스토어에 저장하여 미래의 검색이나 처리를 위해 사용할 수 있도록 했습니다."
   ]
  }
 ],
 "metadata": {
  "kernelspec": {
   "display_name": "env",
   "language": "python",
   "name": "python3"
  },
  "language_info": {
   "codemirror_mode": {
    "name": "ipython",
    "version": 3
   },
   "file_extension": ".py",
   "mimetype": "text/x-python",
   "name": "python",
   "nbconvert_exporter": "python",
   "pygments_lexer": "ipython3",
   "version": "3.11.5"
  }
 },
 "nbformat": 4,
 "nbformat_minor": 2
}
