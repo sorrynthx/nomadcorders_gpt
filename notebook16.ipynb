{
 "cells": [
  {
   "cell_type": "code",
   "execution_count": null,
   "metadata": {},
   "outputs": [],
   "source": [
    "from langchain.chat_models import ChatOpenAI\n",
    "from langchain.document_loaders import TextLoader\n",
    "\n",
    "# 텍스트 파일 로더 초기화 및 파일 로드\n",
    "loader = TextLoader(\"./files/chapter_one.txt\")\n",
    "loader.load()\n",
    "\n",
    "# TextLoader를 사용하여 지정된 경로의 텍스트 파일을 로드합니다. \n",
    "# 이 방법은 주로 구조화된 텍스트 데이터를 처리할 때 사용됩니다."
   ]
  },
  {
   "cell_type": "code",
   "execution_count": null,
   "metadata": {},
   "outputs": [],
   "source": [
    "from langchain.chat_models import ChatOpenAI\n",
    "from langchain.document_loaders import PyPDFLoader\n",
    "from langchain.document_loaders import UnstructuredFileLoader\n",
    "from langchain.text_splitter import CharacterTextSplitter\n",
    "\n",
    "# 문자 기반 텍스트 분할기 설정\n",
    "splitter = CharacterTextSplitter(\n",
    "    separator=\"\\n\",\n",
    "    chunk_size=600,\n",
    "    chunk_overlap=100\n",
    ")\n",
    "\n",
    "# 비구조화된 파일 로더를 사용하여 DOCX 파일 로드 및 분할\n",
    "loader = UnstructuredFileLoader(\"./files/chapter_one.docx\")\n",
    "loader.load_and_split(text_splitter=splitter)\n",
    "\n",
    "# 비구조화된 파일(예: DOCX)을 로드하고, CharacterTextSplitter를 사용하여 \n",
    "# 지정된 크기와 중복으로 텍스트를 분할합니다. 이 과정은 긴 문서를 처리할 때 유용합니다."
   ]
  },
  {
   "cell_type": "code",
   "execution_count": null,
   "metadata": {},
   "outputs": [],
   "source": [
    "from langchain.chat_models import ChatOpenAI\n",
    "from langchain.document_loaders import UnstructuredFileLoader\n",
    "from langchain.text_splitter import RecursiveCharacterTextSplitter\n",
    "from langchain.text_splitter import CharacterTextSplitter\n",
    "\n",
    "# 재귀적 문자 텍스트 분할기 설정\n",
    "splitter = RecursiveCharacterTextSplitter(\n",
    "    chunk_size=200,\n",
    "    chunk_overlap=50\n",
    ")\n",
    "\n",
    "# 비구조화된 파일 로더를 사용하여 DOCX 파일 로드 및 분할\n",
    "loader = UnstructuredFileLoader(\"./files/chapter_one.docx\")\n",
    "loader.load_and_split(text_splitter=splitter)\n",
    "\n",
    "# RecursiveCharacterTextSplitter는 텍스트를 더 작은 크기로 재귀적으로 분할하는 고급 방식을 제공합니다. \n",
    "# 이는 매우 긴 문서나 복잡한 구조의 문서를 효과적으로 처리하기 위해 사용됩니다.\n"
   ]
  },
  {
   "cell_type": "markdown",
   "metadata": {},
   "source": [
    "오늘의 학습 요약:\n",
    "오늘 학습은 Langchain 라이브러리를 활용하여 다양한 형식의 문서 파일을 로드하고, 텍스트 데이터를 효율적으로 분할하는 방법에 대해 배웠습니다. 텍스트 로더, 비구조화된 파일 로더, 그리고 다양한 텍스트 분할기를 사용하는 방법을 실습했습니다."
   ]
  }
 ],
 "metadata": {
  "kernelspec": {
   "display_name": "env",
   "language": "python",
   "name": "python3"
  },
  "language_info": {
   "codemirror_mode": {
    "name": "ipython",
    "version": 3
   },
   "file_extension": ".py",
   "mimetype": "text/x-python",
   "name": "python",
   "nbconvert_exporter": "python",
   "pygments_lexer": "ipython3",
   "version": "3.11.5"
  }
 },
 "nbformat": 4,
 "nbformat_minor": 2
}
