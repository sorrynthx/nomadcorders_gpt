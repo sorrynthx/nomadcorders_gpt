{
 "cells": [
  {
   "cell_type": "code",
   "execution_count": 6,
   "metadata": {},
   "outputs": [
    {
     "name": "stdout",
     "output_type": "stream",
     "text": [
      "\n",
      "\n",
      "\u001b[1m> Entering new LLMChain chain...\u001b[0m\n",
      "Prompt after formatting:\n",
      "\u001b[32;1m\u001b[1;3mSystem: You are a helpful AI talking to a human\n",
      "Human: My name is Jacob\u001b[0m\n",
      "\n",
      "\u001b[1m> Finished chain.\u001b[0m\n"
     ]
    },
    {
     "data": {
      "text/plain": [
       "'Hello Jacob! How can I assist you today?'"
      ]
     },
     "execution_count": 6,
     "metadata": {},
     "output_type": "execute_result"
    }
   ],
   "source": [
    "from langchain.memory import ConversationSummaryBufferMemory\n",
    "from langchain.chat_models import ChatOpenAI\n",
    "from langchain.chains import LLMChain\n",
    "from langchain.prompts import PromptTemplate, ChatPromptTemplate, MessagesPlaceholder\n",
    "\n",
    "# OpenAI 챗봇 모델 설정\n",
    "llm = ChatOpenAI(temperature=0.1)\n",
    "\n",
    "# 대화 요약 버퍼 메모리 초기화\n",
    "memory = ConversationSummaryBufferMemory(\n",
    "    llm=llm,\n",
    "    max_token_limit=120,  # 메모리에 저장할 최대 토큰 수 제한\n",
    "    memory_key=\"chat_history\",  # 메모리 키 설정\n",
    "    return_messages=True,\n",
    ")\n",
    "\n",
    "# 프롬프트 템플릿 설정\n",
    "prompt = ChatPromptTemplate.from_messages(\n",
    "    [\n",
    "        (\"system\", \"You are a helpful AI talking to a human\"),\n",
    "        MessagesPlaceholder(variable_name=\"chat_history\"),\n",
    "        (\"human\", \"{question}\"),\n",
    "    ]\n",
    ")\n",
    "\n",
    "# LLM 체인 설정\n",
    "chain = LLMChain(\n",
    "    llm=llm,\n",
    "    memory=memory,\n",
    "    prompt=prompt,\n",
    "    verbose=True,\n",
    ")\n",
    "\n",
    "chain.predict(question=\"My name is Jacob\")\n",
    "chain.predict(question=\"I live in Seoul\")\n",
    "chain.predict(question=\"What is my name ?\")\n",
    "memory.load_memory_variables({})\n",
    "\n"
   ]
  },
  {
   "cell_type": "code",
   "execution_count": 7,
   "metadata": {},
   "outputs": [
    {
     "name": "stdout",
     "output_type": "stream",
     "text": [
      "\n",
      "\n",
      "\u001b[1m> Entering new LLMChain chain...\u001b[0m\n",
      "Prompt after formatting:\n",
      "\u001b[32;1m\u001b[1;3mSystem: You are a helpful AI talking to a human\n",
      "Human: My name is Jacob\n",
      "AI: Hello Jacob! How can I assist you today?\n",
      "Human: I live in Seoul\u001b[0m\n",
      "\n",
      "\u001b[1m> Finished chain.\u001b[0m\n",
      "\n",
      "\n",
      "\u001b[1m> Entering new LLMChain chain...\u001b[0m\n",
      "Prompt after formatting:\n",
      "\u001b[32;1m\u001b[1;3mSystem: You are a helpful AI talking to a human\n",
      "Human: My name is Jacob\n",
      "AI: Hello Jacob! How can I assist you today?\n",
      "Human: I live in Seoul\n",
      "AI: That's great, Jacob! Seoul is a vibrant and bustling city with a rich history and culture. How can I help you with anything related to Seoul?\n",
      "Human: What is my name ?\u001b[0m\n",
      "\n",
      "\u001b[1m> Finished chain.\u001b[0m\n"
     ]
    },
    {
     "data": {
      "text/plain": [
       "{'chat_history': [HumanMessage(content='My name is Jacob'),\n",
       "  AIMessage(content='Hello Jacob! How can I assist you today?'),\n",
       "  HumanMessage(content='I live in Seoul'),\n",
       "  AIMessage(content=\"That's great, Jacob! Seoul is a vibrant and bustling city with a rich history and culture. How can I help you with anything related to Seoul?\"),\n",
       "  HumanMessage(content='What is my name ?'),\n",
       "  AIMessage(content='Your name is Jacob, as you mentioned earlier. Is there anything specific you would like to know or discuss?')]}"
      ]
     },
     "execution_count": 7,
     "metadata": {},
     "output_type": "execute_result"
    }
   ],
   "source": [
    "chain.predict(question=\"I live in Seoul\")\n",
    "chain.predict(question=\"What is my name ?\")\n",
    "memory.load_memory_variables({})"
   ]
  },
  {
   "cell_type": "code",
   "execution_count": null,
   "metadata": {},
   "outputs": [],
   "source": [
    "from langchain.memory import ConversationSummaryBufferMemory\n",
    "from langchain.chat_models import ChatOpenAI\n",
    "from langchain.chains import LLMChain\n",
    "from langchain.prompts import PromptTemplate, ChatPromptTemplate, MessagesPlaceholder\n",
    "\n",
    "# OpenAI 챗봇 모델 설정\n",
    "llm = ChatOpenAI(temperature=0.1)\n",
    "\n",
    "# 대화 요약 버퍼 메모리 초기화\n",
    "memory = ConversationSummaryBufferMemory(\n",
    "    llm=llm,\n",
    "    max_token_limit=120,  # 메모리에 저장할 최대 토큰 수 제한\n",
    "    memory_key=\"chat_history\",  # 메모리 키 설정\n",
    "    return_messages=True,  # 메시지 반환 활성화\n",
    ")\n",
    "\n",
    "# 프롬프트 템플릿 설정\n",
    "prompt = ChatPromptTemplate.from_messages(\n",
    "    [\n",
    "        (\"system\", \"You are a helpful AI talking to a human\"),\n",
    "        MessagesPlaceholder(variable_name=\"chat_history\"),\n",
    "        (\"human\", \"{question}\"),\n",
    "    ]\n",
    ")\n",
    "\n",
    "# LLM 체인 설정\n",
    "chain = LLMChain(\n",
    "    llm=llm,\n",
    "    memory=memory,\n",
    "    prompt=prompt,\n",
    "    verbose=True,  # 자세한 실행 정보 출력 활성화\n",
    ")\n",
    "\n",
    "# 질문 예측 실행\n",
    "chain.predict(question=\"My name is Jacob\")\n",
    "chain.predict(question=\"I live in Seoul\")\n",
    "chain.predict(question=\"What is my name ?\")\n",
    "# 메모리에서 대화 변수 로드\n",
    "memory.load_memory_variables({})\n",
    "\n",
    "# 이 스크립트는 ChatPromptTemplate와 MessagesPlaceholder를 사용하여 \n",
    "# 대화의 동적인 흐름을 관리하는 고급 기능을 구현합니다. \n",
    "# ConversationSummaryBufferMemory는 대화의 요약을 메모리에 저장하며, \n",
    "# LLMChain을 통해 사용자의 질문에 AI가 답변합니다. \n",
    "# 이 구조는 AI가 과거의 대화 내용을 참조하여 보다 자연스럽고 맥락에 맞는 대화를 진행할 수 있게 돕습니다. \n",
    "# return_messages=True 설정을 통해 대화의 요약뿐만 아니라 전체 메시지 내용도 반환될 수 있어, \n",
    "# 대화의 풍부함과 연속성을 더합니다."
   ]
  }
 ],
 "metadata": {
  "kernelspec": {
   "display_name": "env",
   "language": "python",
   "name": "python3"
  },
  "language_info": {
   "codemirror_mode": {
    "name": "ipython",
    "version": 3
   },
   "file_extension": ".py",
   "mimetype": "text/x-python",
   "name": "python",
   "nbconvert_exporter": "python",
   "pygments_lexer": "ipython3",
   "version": "3.11.5"
  }
 },
 "nbformat": 4,
 "nbformat_minor": 2
}
