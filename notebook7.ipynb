{
 "cells": [
  {
   "cell_type": "code",
   "execution_count": 3,
   "metadata": {},
   "outputs": [
    {
     "name": "stdout",
     "output_type": "stream",
     "text": [
      "Here is a simple recipe for making soju at home:\n",
      "\n",
      "Ingredients:\n",
      "- 1 cup of rice\n",
      "- 1 cup of nuruk (Korean fermentation starter)\n",
      "- 8 cups of water\n",
      "- 1 tablespoon of yeast\n",
      "- 1 cup of sugar\n",
      "\n",
      "Instructions:\n",
      "1. Rinse the rice thoroughly and soak it in water for about 1 hour.\n",
      "2. Drain the rice and transfer it to a large pot. Add 8 cups of water and bring it to a boil.\n",
      "3. Reduce the heat to low and simmer the rice for about 30 minutes or until it becomes soft and mushy.\n",
      "4. Remove the pot from heat and let it cool down to room temperature.\n",
      "5. Once the rice has cooled, transfer it to a large container and add nuruk, yeast, and sugar. Mix well to combine all the ingredients.\n",
      "6. Cover the container with a clean cloth or plastic wrap and let it ferment for about 7-10 days at room temperature.\n",
      "7. After the fermentation period, strain the mixture through a cheesecloth or fine-mesh strainer to remove any solids.\n",
      "8. Transfer the liquid to a clean bottle or jar and store it in the refrigerator.\n",
      "9. Soju is typically enjoyed chilled, so refrigerate it for a few hours before serving.\n",
      "\n",
      "Note: This recipe is a simplified version of traditional soju-making, which usually involves a longer fermentation process and additional steps. Commercially produced soju may also contain other ingredients and go through distillation. Here is a basic recipe for making bread:\n",
      "\n",
      "Ingredients:\n",
      "- 4 cups all-purpose flour\n",
      "- 2 teaspoons active dry yeast\n",
      "- 2 teaspoons salt\n",
      "- 2 teaspoons sugar\n",
      "- 2 tablespoons olive oil\n",
      "- 1 ½ cups warm water (around 110°F or 43°C)\n",
      "\n",
      "Instructions:\n",
      "1. In a large mixing bowl, combine the warm water and sugar. Stir until the sugar is dissolved.\n",
      "2. Sprinkle the yeast over the water and let it sit for about 5 minutes, or until it becomes frothy.\n",
      "3. Add the flour, salt, and olive oil to the bowl. Mix everything together until a dough forms.\n",
      "4. Transfer the dough onto a floured surface and knead it for about 10 minutes, or until it becomes smooth and elastic.\n",
      "5. Place the dough in a greased bowl, cover it with a clean kitchen towel, and let it rise in a warm place for about 1 hour, or until it doubles in size.\n",
      "6. Preheat your oven to 425°F (220°C).\n",
      "7. Punch down the risen dough to release any air bubbles. Shape it into a loaf by folding the sides towards the center and rolling it tightly.\n",
      "8. Place the shaped loaf onto a greased or parchment-lined baking sheet. Cover it with the kitchen towel and let it rise for another 30 minutes.\n",
      "9. Optional: You can make diagonal slashes on the top of the loaf with a sharp knife to create a decorative pattern.\n",
      "10. Bake the bread in the preheated oven for about 25-30 minutes, or until it turns golden brown and sounds hollow when tapped on the bottom.\n",
      "11. Remove the bread from the oven and let it cool on a wire rack before slicing and serving.\n",
      "\n",
      "Note: This is a basic bread recipe, and you can customize it by adding herbs, cheese, or other ingredients to enhance the flavor. \n",
      "\n",
      "Tokens Used: 724\n",
      "\tPrompt Tokens: 29\n",
      "\tCompletion Tokens: 695\n",
      "Successful Requests: 2\n",
      "Total Cost (USD): $0.0014334999999999999\n"
     ]
    }
   ],
   "source": [
    "from langchain.chat_models import ChatOpenAI\n",
    "from langchain.callbacks import get_openai_callback\n",
    "\n",
    "# OpenAI 챗봇 모델 설정\n",
    "chat = ChatOpenAI(\n",
    "    temperature=0.1,\n",
    "    # 스트리밍 및 콜백은 이 예제에서 주석 처리되어 있음\n",
    "    #streaming=True,\n",
    "    #callbacks=[StreamingStdOutCallbackHandler()],\n",
    ")\n",
    "\n",
    "# OpenAI 사용량 및 비용 체크\n",
    "# 결과 예시:\n",
    "# 토큰 사용량: 367\n",
    "#   프롬프트 토큰: 15\n",
    "#   완성 토큰: 352\n",
    "# 성공적인 요청 수: 1\n",
    "# 총 비용 (USD): $0.0007264999999999999\n",
    "with get_openai_callback() as usage:\n",
    "    a = chat.predict(\"Waht is the recipe for soju\")\n",
    "    b = chat.predict(\"Waht is the recipe for bread\")\n",
    "    print(a,b, \"\\n\")\n",
    "    print(usage)\n"
   ]
  },
  {
   "cell_type": "code",
   "execution_count": 5,
   "metadata": {},
   "outputs": [],
   "source": [
    "from langchain.llms.openai import OpenAI\n",
    "\n",
    "# OpenAI 챗봇 모델 설정\n",
    "chat = OpenAI(\n",
    "    temperature=0.1,   # 챗봇의 창의성을 조절하는 온도 설정\n",
    "    max_tokens=450,    # 최대 토큰 수 설정\n",
    "    model=\"gpt-3.5-turbo-16k\"  # 사용할 OpenAI 모델 지정\n",
    ")\n",
    "\n",
    "# 모델 설정을 JSON 파일로 저장\n",
    "# 'model.json' 파일이 생성됩니다.\n",
    "chat.save(\"model.json\")\n"
   ]
  },
  {
   "cell_type": "code",
   "execution_count": 8,
   "metadata": {},
   "outputs": [
    {
     "name": "stderr",
     "output_type": "stream",
     "text": [
      "c:\\dev\\gpt\\fullstack_gpt\\env\\Lib\\site-packages\\langchain\\llms\\openai.py:216: UserWarning: You are trying to use a chat model. This way of initializing it is no longer supported. Instead, please use: `from langchain.chat_models import ChatOpenAI`\n",
      "  warnings.warn(\n",
      "c:\\dev\\gpt\\fullstack_gpt\\env\\Lib\\site-packages\\langchain\\llms\\openai.py:811: UserWarning: You are trying to use a chat model. This way of initializing it is no longer supported. Instead, please use: `from langchain.chat_models import ChatOpenAI`\n",
      "  warnings.warn(\n"
     ]
    },
    {
     "data": {
      "text/plain": [
       "OpenAIChat(client=<class 'openai.api_resources.chat_completion.ChatCompletion'>, model_name='gpt-3.5-turbo-16k', model_kwargs={'temperature': 0.1, 'max_tokens': 450, 'top_p': 1, 'frequency_penalty': 0, 'presence_penalty': 0, 'n': 1, 'request_timeout': None, 'logit_bias': {}})"
      ]
     },
     "execution_count": 8,
     "metadata": {},
     "output_type": "execute_result"
    }
   ],
   "source": [
    "from langchain.llms.openai import OpenAI\n",
    "from langchain.llms.loading import load_llm\n",
    "\n",
    "# OpenAI 챗봇 모델 설정 불러오기\n",
    "chat = load_llm(\"model.json\")\n",
    "\n",
    "# print\n",
    "chat\n"
   ]
  }
 ],
 "metadata": {
  "kernelspec": {
   "display_name": "env",
   "language": "python",
   "name": "python3"
  },
  "language_info": {
   "codemirror_mode": {
    "name": "ipython",
    "version": 3
   },
   "file_extension": ".py",
   "mimetype": "text/x-python",
   "name": "python",
   "nbconvert_exporter": "python",
   "pygments_lexer": "ipython3",
   "version": "3.11.5"
  }
 },
 "nbformat": 4,
 "nbformat_minor": 2
}
