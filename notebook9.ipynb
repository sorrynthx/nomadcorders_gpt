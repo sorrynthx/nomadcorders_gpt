{
 "cells": [
  {
   "cell_type": "code",
   "execution_count": 4,
   "metadata": {},
   "outputs": [],
   "source": [
    "from langchain.memory import ConversationBufferWindowMemory\n",
    "\n",
    "# 대화 버퍼 윈도우 메모리 초기화\n",
    "# k=4는 메모리에 저장할 최근 대화의 수를 제한합니다.\n",
    "memory = ConversationBufferWindowMemory(\n",
    "    return_message=True,\n",
    "    k=4\n",
    ")\n",
    "\n",
    "# 대화 메시지 추가 함수\n",
    "def add_message(input, output):\n",
    "    memory.save_context({\"input\": input}, {\"output\": output})\n",
    "\n",
    "# 대화 메시지 추가\n",
    "add_message(1,1)\n",
    "\n",
    "\n",
    "# 이 스크립트는 ConversationBufferWindowMemory를 활용하여 챗봇의 대화 기록을 관리합니다. \n",
    "# k 매개변수를 통해 메모리에 저장할 최근 대화의 수를 제한하는 기능을 포함하고 있습니다. \n",
    "# 이를 통해 챗봇이 최근 대화에 집중하도록 하며, 오래된 대화는 자동으로 메모리에서 제거됩니다. \n",
    "# 이 방식은 대화의 관련성을 유지하면서 메모리 사용량을 최적화하는 데 유용합니다."
   ]
  },
  {
   "cell_type": "code",
   "execution_count": 5,
   "metadata": {},
   "outputs": [],
   "source": [
    "# 대화 메시지 추가\n",
    "add_message(2,2)\n",
    "add_message(3,3)\n",
    "add_message(4,4)"
   ]
  },
  {
   "cell_type": "code",
   "execution_count": 6,
   "metadata": {},
   "outputs": [
    {
     "data": {
      "text/plain": [
       "{'history': 'Human: 1\\nAI: 1\\nHuman: 2\\nAI: 2\\nHuman: 3\\nAI: 3\\nHuman: 4\\nAI: 4'}"
      ]
     },
     "execution_count": 6,
     "metadata": {},
     "output_type": "execute_result"
    }
   ],
   "source": [
    "# 메모리에서 대화 변수 로드\n",
    "memory.load_memory_variables({})"
   ]
  },
  {
   "cell_type": "code",
   "execution_count": 7,
   "metadata": {},
   "outputs": [],
   "source": [
    "# 새 대화 메시지 추가\n",
    "add_message(5,5)"
   ]
  },
  {
   "cell_type": "code",
   "execution_count": 8,
   "metadata": {},
   "outputs": [
    {
     "data": {
      "text/plain": [
       "{'history': 'Human: 2\\nAI: 2\\nHuman: 3\\nAI: 3\\nHuman: 4\\nAI: 4\\nHuman: 5\\nAI: 5'}"
      ]
     },
     "execution_count": 8,
     "metadata": {},
     "output_type": "execute_result"
    }
   ],
   "source": [
    "# 메모리에서 대화 변수 로드\n",
    "memory.load_memory_variables({})"
   ]
  }
 ],
 "metadata": {
  "kernelspec": {
   "display_name": "env",
   "language": "python",
   "name": "python3"
  },
  "language_info": {
   "codemirror_mode": {
    "name": "ipython",
    "version": 3
   },
   "file_extension": ".py",
   "mimetype": "text/x-python",
   "name": "python",
   "nbconvert_exporter": "python",
   "pygments_lexer": "ipython3",
   "version": "3.11.5"
  }
 },
 "nbformat": 4,
 "nbformat_minor": 2
}
