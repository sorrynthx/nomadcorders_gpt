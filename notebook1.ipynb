{
 "cells": [
  {
   "cell_type": "code",
   "execution_count": 1,
   "metadata": {},
   "outputs": [
    {
     "name": "stdout",
     "output_type": "stream",
     "text": [
      "Great choice! Indian cuisine is known for its bold flavors and aromatic spices. Let's start with a classic and popular dish - Chicken Tikka Masala. Here's a simple recipe for you to try at home:\n",
      "\n",
      "Ingredients:\n",
      "- 1 lb boneless, skinless chicken breasts, cut into bite-sized pieces\n",
      "- 1 cup plain yogurt\n",
      "- 2 tablespoons lemon juice\n",
      "- 2 tablespoons vegetable oil\n",
      "- 1 large onion, finely chopped\n",
      "- 3 cloves garlic, minced\n",
      "- 1 tablespoon ginger, minced\n",
      "- 1 can (14 oz) tomato sauce\n",
      "- 1 tablespoon garam masala\n",
      "- 1 teaspoon ground cumin\n",
      "- 1 teaspoon ground coriander\n",
      "- 1 teaspoon paprika\n",
      "- 1/2 teaspoon turmeric\n",
      "- 1/2 teaspoon cayenne pepper (adjust to taste)\n",
      "- Salt and pepper to taste\n",
      "- Fresh cilantro, chopped for garnish\n",
      "\n",
      "Instructions:\n",
      "1. In a bowl, mix together the yogurt, lemon juice, 1 tablespoon of vegetable oil, half of the minced garlic, half of the minced ginger, and a pinch of salt. Add the chicken pieces and coat them well with the marinade. Cover and refrigerate for at least 1 hour, or overnight for best results.\n",
      "\n",
      "2. Preheat the oven to 400°F (200°C). Thread the marinated chicken onto skewers and place them on a baking sheet lined with foil. Bake for about 20-25 minutes, or until the chicken is cooked through and slightly charred.\n",
      "\n",
      "3. In a large skillet, heat the remaining tablespoon of vegetable oil over medium heat. Add the chopped onion and cook until softened, about 5 minutes. Add the remaining garlic and ginger, and cook for another minute.\n",
      "\n",
      "4. Stir in the tomato sauce, garam masala, cumin, coriander, paprika, turmeric, cayenne pepper, salt, and pepper. Simmer for about 10 minutes, stirring occasionally.\n",
      "\n",
      "5. Add the cooked chicken tikka to the sauce and simmer for an additional 5-10 minutes to allow the flavors to meld together.\n",
      "\n",
      "6. Serve the Chicken Tikka Masala over steamed rice or with naan bread. Garnish with chopped cilantro before serving.\n",
      "\n",
      "Enjoy your homemade Chicken Tikka Masala! Feel free to adjust the spice levels to suit your taste preferences.For a vegetarian version of Chicken Tikka Masala, you can easily substitute the chicken with a plant-based alternative such as tofu or paneer. Here's how you can prepare these alternatives:\n",
      "\n",
      "1. **Tofu**: \n",
      "   - Use extra-firm tofu and press it to remove excess water. Cut the tofu into bite-sized cubes.\n",
      "   - To marinate the tofu, you can follow the same marinade recipe as for the chicken. Tofu absorbs flavors well, so marinating it for at least an hour or overnight will enhance the taste.\n",
      "   - Instead of baking, you can pan-fry the marinated tofu in a bit of oil until it's golden brown and slightly crispy.\n",
      "\n",
      "2. **Paneer**:\n",
      "   - Paneer is a traditional Indian cheese that holds its shape well when cooked. You can find it in Indian grocery stores or make it at home by curdling hot milk with lemon juice or vinegar.\n",
      "   - Cut the paneer into cubes and lightly pan-fry them until they develop a golden crust.\n",
      "   - You can also marinate the paneer cubes before frying to infuse them with more flavor.\n",
      "\n",
      "Follow the rest of the recipe as it is, substituting the chicken with your chosen alternative. The tofu or paneer will absorb the delicious flavors of the sauce and spices, giving you a vegetarian version of this classic dish. Enjoy your Vegetarian Tikka Masala!"
     ]
    },
    {
     "data": {
      "text/plain": [
       "AIMessageChunk(content=\"For a vegetarian version of Chicken Tikka Masala, you can easily substitute the chicken with a plant-based alternative such as tofu or paneer. Here's how you can prepare these alternatives:\\n\\n1. **Tofu**: \\n   - Use extra-firm tofu and press it to remove excess water. Cut the tofu into bite-sized cubes.\\n   - To marinate the tofu, you can follow the same marinade recipe as for the chicken. Tofu absorbs flavors well, so marinating it for at least an hour or overnight will enhance the taste.\\n   - Instead of baking, you can pan-fry the marinated tofu in a bit of oil until it's golden brown and slightly crispy.\\n\\n2. **Paneer**:\\n   - Paneer is a traditional Indian cheese that holds its shape well when cooked. You can find it in Indian grocery stores or make it at home by curdling hot milk with lemon juice or vinegar.\\n   - Cut the paneer into cubes and lightly pan-fry them until they develop a golden crust.\\n   - You can also marinate the paneer cubes before frying to infuse them with more flavor.\\n\\nFollow the rest of the recipe as it is, substituting the chicken with your chosen alternative. The tofu or paneer will absorb the delicious flavors of the sauce and spices, giving you a vegetarian version of this classic dish. Enjoy your Vegetarian Tikka Masala!\")"
      ]
     },
     "execution_count": 1,
     "metadata": {},
     "output_type": "execute_result"
    }
   ],
   "source": [
    "from langchain.chat_models import ChatOpenAI\n",
    "from langchain.prompts import ChatPromptTemplate\n",
    "from langchain.callbacks import StreamingStdOutCallbackHandler\n",
    "\n",
    "# Model\n",
    "chat = ChatOpenAI(\n",
    "    temperature=0.1,\n",
    "    streaming=True,\n",
    "    callbacks=[StreamingStdOutCallbackHandler()]\n",
    ")\n",
    "\n",
    "# make prompt\n",
    "chef_prompt = ChatPromptTemplate.from_messages([\n",
    "    (\"system\", \"You are a world-class international chef. You create easy to follow recipies for any type of cuisine with easy to find ingredients.\"),\n",
    "    (\"human\", \"I want to cook {cuisine} food.\")\n",
    "])\n",
    "\n",
    "chef_chain = chef_prompt | chat\n",
    "\n",
    "# make prompt\n",
    "veg_chef_prompt = ChatPromptTemplate.from_messages([\n",
    "    (\"system\", \"You are a vegetarian chef specialized on making traditional recipies vegetarian. You find alternative ingredients and explain their preparation. You don't radically modify the recipe. If there is no alternative for a food just say you don't know how to repace it.\"),\n",
    "    (\"human\", \"{receipt}\")\n",
    "])\n",
    "\n",
    "veg_chain = veg_chef_prompt | chat\n",
    "\n",
    "\n",
    "final_chain = {\"receipt\": chef_chain} | veg_chain\n",
    "\n",
    "final_chain.invoke({\n",
    "    \"cuisine\": \"indian\"\n",
    "})\n"
   ]
  },
  {
   "cell_type": "code",
   "execution_count": null,
   "metadata": {},
   "outputs": [],
   "source": [
    "from langchain.chat_models import ChatOpenAI\n",
    "from langchain.prompts import ChatPromptTemplate\n",
    "from langchain.callbacks import StreamingStdOutCallbackHandler\n",
    "\n",
    "# 모델 설정\n",
    "# OpenAI의 챗봇 모델을 초기화합니다. 여기서 온도(temperature)는 챗봇의 창의성을 조절합니다.\n",
    "# streaming=True는 실시간으로 응답을 스트리밍하게 설정합니다.\n",
    "# StreamingStdOutCallbackHandler는 챗봇의 응답을 표준 출력으로 리다이렉트합니다.\n",
    "chat = ChatOpenAI(\n",
    "    temperature=0.1,\n",
    "    streaming=True,\n",
    "    callbacks=[StreamingStdOutCallbackHandler()]\n",
    ")\n",
    "\n",
    "# 요리사 프롬프트 생성\n",
    "# 세계적인 요리사 캐릭터를 만듭니다. 이 요리사는 모든 종류의 요리법을 쉽게 제공합니다.\n",
    "chef_prompt = ChatPromptTemplate.from_messages([\n",
    "    (\"system\", \"You are a world-class international chef. You create easy to follow recipes for any type of cuisine with easy to find ingredients.\"),\n",
    "    (\"human\", \"I want to cook {cuisine} food.\")\n",
    "])\n",
    "\n",
    "# 이 프롬프트를 챗봇 모델과 결합합니다.\n",
    "chef_chain = chef_prompt | chat\n",
    "\n",
    "# 채식 요리사 프롬프트 생성\n",
    "# 전통 요리를 채식으로 변환하는 전문 채식 요리사 캐릭터를 만듭니다.\n",
    "veg_chef_prompt = ChatPromptTemplate.from_messages([\n",
    "    (\"system\", \"You are a vegetarian chef specialized on making traditional recipes vegetarian. You find alternative ingredients and explain their preparation. You don't radically modify the recipe. If there is no alternative for a food just say you don't know how to replace it.\"),\n",
    "    (\"human\", \"{receipt}\")\n",
    "])\n",
    "\n",
    "# 이 프롬프트를 챗봇 모델과 결합합니다.\n",
    "veg_chain = veg_chef_prompt | chat\n",
    "\n",
    "# 최종 챗봇 체인 결합\n",
    "# 위에서 만든 두 가지 요리사 챗봇을 결합하여 최종 챗봇을 만듭니다.\n",
    "final_chain = {\"receipt\": chef_chain} | veg_chain\n",
    "\n",
    "# 챗봇 실행\n",
    "# 인도 요리를 요청하는 예시로 챗봇을 실행합니다.\n",
    "final_chain.invoke({\n",
    "    \"cuisine\": \"indian\"\n",
    "})\n",
    "\n",
    "# 결과\n",
    "## AIMessageChunk(content=\"Great choice! Butter Chicken is a delicious Indian dish that can easily be made vegetarian. Here's a modified version of the recipe using alternative ingredients:\\n\\nIngredients:\\n- 500g paneer (Indian cottage cheese), cut into bite-sized pieces\\n- 2 tablespoons butter (or vegan butter for a vegan option)\\n- 1 onion, finely chopped\\n- 2 cloves of garlic, minced\\n- 1-inch piece of ginger, grated\\n- 2 teaspoons garam masala\\n- 1 teaspoon turmeric powder\\n- 1 teaspoon chili powder (adjust to your spice preference)\\n- 1 cup tomato puree\\n- 1/2 cup coconut cream (or cashew cream for a creamier texture)\\n- Salt to taste\\n- Fresh cilantro leaves for garnish\\n\\nInstructions:\\n1. Heat the butter in a large pan over medium heat. Add the chopped onion and sauté until it turns golden brown.\\n2. Add the minced garlic and grated ginger to the pan. Cook for another minute until fragrant.\\n3. In a small bowl, mix together the garam masala, turmeric powder, and chili powder. Add this spice mixture to the pan and cook for a minute to release the flavors.\\n4. Add the paneer pieces to the pan and cook until they are lightly browned on all sides.\\n5. Pour in the tomato puree and season with salt. Stir well to combine all the ingredients.\\n6. Reduce the heat to low, cover the pan, and let the paneer simmer for about 15-20 minutes, or until it is cooked through and tender.\\n7. Stir in the coconut cream and simmer for an additional 5 minutes to thicken the sauce.\\n8. Taste and adjust the seasoning if needed.\\n9. Garnish with fresh cilantro leaves before serving.\\n10. Serve the Butter Paneer with steamed basmati rice or naan bread.\\n\\nIn this vegetarian version, the chicken is replaced with paneer, a popular Indian cheese that has a similar texture to chicken. The heavy cream is substituted with coconut cream or cashew cream for a creamy and rich sauce. These alternatives maintain the essence of the dish while making it suitable for vegetarians. Enjoy your homemade Butter Paneer!\")\n"
   ]
  }
 ],
 "metadata": {
  "kernelspec": {
   "display_name": "Python 3.12.2 ('env': venv)",
   "language": "python",
   "name": "python3"
  },
  "language_info": {
   "codemirror_mode": {
    "name": "ipython",
    "version": 3
   },
   "file_extension": ".py",
   "mimetype": "text/x-python",
   "name": "python",
   "nbconvert_exporter": "python",
   "pygments_lexer": "ipython3",
   "version": "3.11.9"
  },
  "vscode": {
   "interpreter": {
    "hash": "2a3267890a42276204fdf581729f6e6e47a99880f279166c8e3f235b07ba3c94"
   }
  }
 },
 "nbformat": 4,
 "nbformat_minor": 2
}
