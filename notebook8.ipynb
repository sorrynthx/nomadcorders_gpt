{
 "cells": [
  {
   "cell_type": "code",
   "execution_count": 1,
   "metadata": {},
   "outputs": [
    {
     "data": {
      "text/plain": [
       "{'history': [HumanMessage(content='Hi!'),\n",
       "  AIMessage(content='How are you?'),\n",
       "  HumanMessage(content='Bye!'),\n",
       "  AIMessage(content='Good Night'),\n",
       "  HumanMessage(content='Stop!'),\n",
       "  AIMessage(content='Enough Conversation')]}"
      ]
     },
     "execution_count": 1,
     "metadata": {},
     "output_type": "execute_result"
    }
   ],
   "source": [
    "from langchain.memory import ConversationBufferMemory\n",
    "\n",
    "# 대화 버퍼 메모리 초기화\n",
    "memory = ConversationBufferMemory(return_messages=True)\n",
    "\n",
    "# 대화 컨텍스트 저장\n",
    "memory.save_context({\"input\": \"Hi!\"}, {\"output\": \"How are you?\"})\n",
    "# 메모리 변수 로드\n",
    "memory.load_memory_variables({})\n",
    "\n",
    "# 대화 컨텍스트 저장\n",
    "memory.save_context({\"input\": \"Bye!\"}, {\"output\": \"Good Night\"})\n",
    "# 메모리 변수 로드\n",
    "memory.load_memory_variables({})\n",
    "\n",
    "# 대화 컨텍스트 저장\n",
    "memory.save_context({\"input\": \"Stop!\"}, {\"output\": \"Enough Conversation\"})\n",
    "# 메모리 변수 로드\n",
    "memory.load_memory_variables({})\n",
    "\n",
    "\n",
    "# 요약 및 약점:\n",
    "# 이 스크립트는 ConversationBufferMemory를 사용하여 챗봇의 대화 컨텍스트를 관리합니다. \n",
    "# 각 대화 입력(input)과 출력(output)을 저장하여 챗봇이 이전 대화 내용을 참고할 수 있게 합니다. \n",
    "# 그러나 이 방식의 약점은 다음과 같습니다:\n",
    "\n",
    "# 메모리 용량: 대화가 길어질수록 메모리 사용량이 증가합니다. \n",
    "# 많은 대화 내용을 저장하면 시스템의 메모리에 부담을 줄 수 있습니다.\n",
    "\n",
    "# 데이터 관리: 대화가 누적되면 오래된 데이터나 불필요한 데이터를 정리해야 할 필요가 생깁니다. \n",
    "# 이를 관리하는 데 추가적인 로직이 필요합니다.\n",
    "\n",
    "# 상황 인식의 한계: 대화의 컨텍스트만을 저장하므로, 복잡한 상황이나 사용자의 의도를 완전히 이해하는 데 \n",
    "# 한계가 있을 수 있습니다. 이로 인해 대화의 흐름이 자연스럽지 않거나, 사용자의 질문에 적절히 대응하지 못할 수도 있습니다.\n",
    "\n",
    "# 이 스크립트는 대화 컨텍스트를 관리하는 기본적인 방법을 제공하지만, \n",
    "# 대화의 복잡성이나 메모리 관리 측면에서 고려해야 할 사항이 있습니다.\n"
   ]
  }
 ],
 "metadata": {
  "kernelspec": {
   "display_name": "env",
   "language": "python",
   "name": "python3"
  },
  "language_info": {
   "codemirror_mode": {
    "name": "ipython",
    "version": 3
   },
   "file_extension": ".py",
   "mimetype": "text/x-python",
   "name": "python",
   "nbconvert_exporter": "python",
   "pygments_lexer": "ipython3",
   "version": "3.11.5"
  }
 },
 "nbformat": 4,
 "nbformat_minor": 2
}
