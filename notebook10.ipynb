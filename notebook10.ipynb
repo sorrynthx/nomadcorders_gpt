{
 "cells": [
  {
   "cell_type": "code",
   "execution_count": 2,
   "metadata": {},
   "outputs": [],
   "source": [
    "from langchain.memory import ConversationSummaryMemory\n",
    "from langchain.chat_models import ChatOpenAI\n",
    "\n",
    "# OpenAI 챗봇 모델 설정\n",
    "llm = ChatOpenAI(temperature=0.1)\n",
    "\n",
    "# 대화 요약 메모리 초기화\n",
    "# 이 메모리는 대화의 요약을 관리하는 데 사용됩니다.\n",
    "memory = ConversationSummaryMemory(llm=llm)\n",
    "\n",
    "# 대화 메시지를 추가하는 함수\n",
    "def add_message(input, output):\n",
    "    memory.save_context({\"input\": input},{\"output\": output})\n",
    "\n",
    "# 대화 기록을 가져오는 함수\n",
    "def get_history():\n",
    "    return memory.load_memory_variables({})\n",
    "\n",
    "# 대화 메시지 추가\n",
    "add_message(\"Hi I'm Jacob, I live in South Korea\", \"Wow that is so cool!\")\n",
    "add_message(\"South Korea is good\", \"I wish i could go!\")\n",
    "\n",
    "# 대화 기록 가져오기\n",
    "get_history()\n",
    "\n",
    "# 이 스크립트는 ConversationSummaryMemory를 활용하여 챗봇의 대화 기록을 요약하고 관리합니다. \n",
    "# 대화의 입력(input)과 출력(output)을 저장하고, 저장된 대화 기록을 요약하여 필요에 따라 추출할 수 있습니다. \n",
    "# 이 방식은 대화의 중요한 부분을 요약하고, 챗봇이 대화의 맥락을 이해하고 유지하는 데 도움을 줄 수 있습니다.\n"
   ]
  }
 ],
 "metadata": {
  "kernelspec": {
   "display_name": "env",
   "language": "python",
   "name": "python3"
  },
  "language_info": {
   "codemirror_mode": {
    "name": "ipython",
    "version": 3
   },
   "file_extension": ".py",
   "mimetype": "text/x-python",
   "name": "python",
   "nbconvert_exporter": "python",
   "pygments_lexer": "ipython3",
   "version": "3.11.5"
  }
 },
 "nbformat": 4,
 "nbformat_minor": 2
}
