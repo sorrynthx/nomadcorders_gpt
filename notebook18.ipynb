{
 "cells": [
  {
   "cell_type": "code",
   "execution_count": 5,
   "metadata": {},
   "outputs": [
    {
     "data": {
      "text/plain": [
       "'Victory Mansions is the dilapidated residential building where Winston Smith resides in George Orwell\\'s novel \"1984.\" The building is located in London, chief city of Airstrip One, which is the third most populous province of Oceania. The apartments in Victory Mansions are small and cramped, lacking basic amenities, reflecting the grim and depressing atmosphere of the oppressive and totalitarian society depicted in the novel. The building is surrounded by rotting nineteenth-century houses, bombed sites, and sordid colonies of wooden dwellings. The residents of Victory Mansions are under constant surveillance through telescreens, leaving them with no privacy and subject to the scrutiny of the ruling Party, led by Big Brother.\\n\\nWinston\\'s living situation within Victory Mansions is further explored through his strategic positioning in the alcove to avoid the telescreen\\'s view while engaging in forbidden activities, such as reading the old book he acquired. The book, with its smooth creamy paper and age, is a rare find in a society where such items are prohibited. Party members are not supposed to engage in \"dealing on the free market,\" but Winston\\'s desire to possess the book reflects his rebellious nature and longing for freedom of thought and expression in a society that suppresses individuality. The juxtaposition of Winston\\'s actions within the confines of Victory Mansions highlights the stark contrast between the oppressive reality of Oceania and the yearning for intellectual freedom and personal agency.'"
      ]
     },
     "execution_count": 5,
     "metadata": {},
     "output_type": "execute_result"
    }
   ],
   "source": [
    "from langchain.chat_models import ChatOpenAI\n",
    "from langchain.document_loaders import UnstructuredFileLoader\n",
    "from langchain.text_splitter import CharacterTextSplitter\n",
    "from langchain.embeddings import OpenAIEmbeddings, CacheBackedEmbeddings\n",
    "from langchain.vectorstores import FAISS\n",
    "from langchain.storage import LocalFileStore\n",
    "from langchain.chains import RetrievalQA\n",
    "\n",
    "llm = ChatOpenAI()\n",
    "\n",
    "cache_dir = LocalFileStore(\"./.cache/\")\n",
    "\n",
    "splitter = CharacterTextSplitter.from_tiktoken_encoder(\n",
    "    separator=\"\\n\",\n",
    "    chunk_size=600,\n",
    "    chunk_overlap=100,\n",
    ")\n",
    "\n",
    "loader = UnstructuredFileLoader(\"./files/chapter_one.docx\")\n",
    "\n",
    "docs = loader.load_and_split(text_splitter=splitter)\n",
    "\n",
    "embeddings = OpenAIEmbeddings()\n",
    "\n",
    "cached_embeddings = CacheBackedEmbeddings.from_bytes_store(embeddings, cache_dir)\n",
    "\n",
    "vectorstore = FAISS.from_documents(docs, cached_embeddings)\n",
    "\n",
    "chain = RetrievalQA.from_chain_type(\n",
    "    llm=llm,\n",
    "    chain_type=\"stuff\", # refine, etc...\n",
    "    retriever= vectorstore.as_retriever(),\n",
    ")\n",
    "\n",
    "chain.run(\"Describe Victory Mansions\")\n"
   ]
  },
  {
   "cell_type": "code",
   "execution_count": null,
   "metadata": {},
   "outputs": [],
   "source": [
    "# Langchain 라이브러리의 여러 모듈을 불러옵니다.\n",
    "from langchain.chat_models import ChatOpenAI\n",
    "from langchain.document_loaders import UnstructuredFileLoader\n",
    "from langchain.text_splitter import CharacterTextSplitter\n",
    "from langchain.embeddings import OpenAIEmbeddings, CacheBackedEmbeddings\n",
    "from langchain.vectorstores import FAISS\n",
    "from langchain.storage import LocalFileStore\n",
    "from langchain.chains import RetrievalQA\n",
    "\n",
    "# ChatOpenAI 모델 인스턴스를 생성합니다.\n",
    "llm = ChatOpenAI()\n",
    "\n",
    "# 캐시 디렉토리를 로컬 파일 저장소로 설정합니다.\n",
    "cache_dir = LocalFileStore(\"./.cache/\")\n",
    "\n",
    "# 텍스트 분할기를 생성합니다. 이는 문서를 특정 크기의 청크로 나눕니다.\n",
    "splitter = CharacterTextSplitter.from_tiktoken_encoder(\n",
    "    separator=\"\\n\",\n",
    "    chunk_size=600,\n",
    "    chunk_overlap=100,\n",
    ")\n",
    "\n",
    "# 비구조화된 파일 로더를 사용하여 문서를 불러옵니다.\n",
    "loader = UnstructuredFileLoader(\"./files/chapter_one.docx\")\n",
    "\n",
    "# 로더를 사용하여 문서를 로드하고 분할합니다.\n",
    "docs = loader.load_and_split(text_splitter=splitter)\n",
    "\n",
    "# OpenAI의 임베딩 모델을 생성합니다.\n",
    "embeddings = OpenAIEmbeddings()\n",
    "\n",
    "# 임베딩을 캐시와 연동하여 캐시된 임베딩을 생성합니다.\n",
    "cached_embeddings = CacheBackedEmbeddings.from_bytes_store(embeddings, cache_dir)\n",
    "\n",
    "# 문서들로부터 FAISS 벡터 스토어를 생성합니다.\n",
    "vectorstore = FAISS.from_documents(docs, cached_embeddings)\n",
    "\n",
    "# 검색 기반 QA 체인을 설정합니다.\n",
    "chain = RetrievalQA.from_chain_type(\n",
    "    llm=llm,\n",
    "    chain_type=\"stuff\", # 이 부분은 상세한 설정이 필요합니다 (예: refine 등).\n",
    "    retriever=vectorstore.as_retriever(),\n",
    ")\n",
    "\n",
    "# 체인을 실행하여 'Victory Mansions'에 대한 설명을 요청합니다.\n",
    "chain.run(\"Describe Victory Mansions\")\n"
   ]
  },
  {
   "cell_type": "markdown",
   "metadata": {},
   "source": [
    "Source -> Load -> Transform -> Embed -> Store -> Retrieve\n",
    "\n",
    "오늘 배운 내용은 비구조화된 문서를 로딩하고, 텍스트를 적절한 크기로 분할한 후, OpenAI의 임베딩을 사용하여 문서의 벡터 표현을 생성하고, FAISS를 이용하여 이 벡터들을 저장하는 과정입니다. 마지막으로, 저장된 벡터를 검색기로 사용하여 특정 질문에 대한 답을 찾는 RetrievalQA 체인을 실행하는 방법을 학습하셨습니다."
   ]
  }
 ],
 "metadata": {
  "kernelspec": {
   "display_name": "env",
   "language": "python",
   "name": "python3"
  },
  "language_info": {
   "codemirror_mode": {
    "name": "ipython",
    "version": 3
   },
   "file_extension": ".py",
   "mimetype": "text/x-python",
   "name": "python",
   "nbconvert_exporter": "python",
   "pygments_lexer": "ipython3",
   "version": "3.11.5"
  }
 },
 "nbformat": 4,
 "nbformat_minor": 2
}
