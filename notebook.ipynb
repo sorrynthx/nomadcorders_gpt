{
 "cells": [
  {
   "cell_type": "code",
   "execution_count": 4,
   "metadata": {},
   "outputs": [
    {
     "data": {
      "text/plain": [
       "'The distance between South Korea and Japan varies depending on the specific locations being compared. However, the shortest distance between the two countries is approximately 200 kilometers (124 miles) across the Korea Strait, which separates the Korean Peninsula from the Japanese archipelago.'"
      ]
     },
     "execution_count": 4,
     "metadata": {},
     "output_type": "execute_result"
    }
   ],
   "source": [
    "# langchain.chat_models에서 ChatOpenAI를 가져옴\n",
    "from langchain.chat_models import ChatOpenAI\n",
    "from langchain.prompts import PromptTemplate, ChatPromptTemplate\n",
    "\n",
    "# ChatOpenAI의 인스턴스를 생성하고, 낮은 온도 설정으로 대화의 예측 가능성을 높임\n",
    "chat = ChatOpenAI(temperature=0.1)\n",
    "\n",
    "template = PromptTemplate.from_template(\n",
    "    \"What is the distance between {country_a} and {country_b}\",\n",
    ")\n",
    "\n",
    "prompt = template.format(country_a=\"South Korea\", country_b=\"Japan\")\n",
    "\n",
    "#chat.predict(prompt)"
   ]
  },
  {
   "cell_type": "code",
   "execution_count": 8,
   "metadata": {},
   "outputs": [
    {
     "data": {
      "text/plain": [
       "AIMessage(content='こんにちは！私の名前はさくらです。日本と韓国の間の距離は、直線距離で約900キロメートルです。')"
      ]
     },
     "execution_count": 8,
     "metadata": {},
     "output_type": "execute_result"
    }
   ],
   "source": [
    "# langchain.schema에서 여러 메시지 타입을 가져옴\n",
    "from langchain.schema import HumanMessage, AIMessage, SystemMessage\n",
    "\n",
    "# 대화 메시지의 시퀀스를 정의함\n",
    "template = ChatPromptTemplate.from_messages([\n",
    "    # 시스템 메시지는 지리 전문가로서, 오직 {language}로만 답변하라는 지시를 포함함\n",
    "    (\"system\", \"You are a geography expert. And you only reply in {language}.\"),\n",
    "    # AI 메시지는 자기 소개를 함\n",
    "    (\"ai\", \"Hi my name is {name}!\"),\n",
    "    # 인간 메시지는 {country_a}와 {country_b} 사이의 거리를 묻고, AI의 이름을 물음\n",
    "    (\"human\", \"What is the distance between {country_a} and {country_b}. Also what is your name?\")\n",
    "])\n",
    "\n",
    "prompt = template.format_messages(\n",
    "    language=\"Japan\",\n",
    "    name=\"Haru\",\n",
    "    country_a=\"Japan\",\n",
    "    country_b=\"South Korea\",\n",
    ")\n",
    "\n",
    "chat.predict_messages(prompt)"
   ]
  }
 ],
 "metadata": {
  "kernelspec": {
   "display_name": "env",
   "language": "python",
   "name": "python3"
  },
  "language_info": {
   "codemirror_mode": {
    "name": "ipython",
    "version": 3
   },
   "file_extension": ".py",
   "mimetype": "text/x-python",
   "name": "python",
   "nbconvert_exporter": "python",
   "pygments_lexer": "ipython3",
   "version": "3.11.5"
  }
 },
 "nbformat": 4,
 "nbformat_minor": 2
}
