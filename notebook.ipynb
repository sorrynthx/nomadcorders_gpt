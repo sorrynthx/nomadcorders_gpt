{
 "cells": [
  {
   "cell_type": "code",
   "execution_count": 3,
   "metadata": {},
   "outputs": [],
   "source": [
    "# langchain.chat_models에서 ChatOpenAI를 가져옴\n",
    "from langchain.chat_models import ChatOpenAI\n",
    "\n",
    "# ChatOpenAI의 인스턴스를 생성하고, 낮은 온도 설정으로 대화의 예측 가능성을 높임\n",
    "chat = ChatOpenAI(temperature=0.1)"
   ]
  },
  {
   "cell_type": "code",
   "execution_count": 4,
   "metadata": {},
   "outputs": [
    {
     "data": {
      "text/plain": [
       "AIMessage(content='Ciao! Il mio nome è Paolo. La distanza tra il Messico e la Thailandia è di circa 17.000 chilometri.')"
      ]
     },
     "execution_count": 4,
     "metadata": {},
     "output_type": "execute_result"
    }
   ],
   "source": [
    "# langchain.schema에서 여러 메시지 타입을 가져옴\n",
    "from langchain.schema import HumanMessage, AIMessage, SystemMessage\n",
    "\n",
    "# 대화 메시지의 시퀀스를 정의함\n",
    "messages = [\n",
    "    # 시스템 메시지는 지리 전문가로서, 오직 이탈리아어로만 답변하라는 지시를 포함함\n",
    "    SystemMessage(\n",
    "        content=\"You are a geography expert. And you only reply in Italian.\"\n",
    "    ),\n",
    "    # AI 메시지는 이탈리아어로 자기 소개를 함\n",
    "    AIMessage(\n",
    "        content=\"Ciao, mi chiamo Paolo!\"\n",
    "    ),\n",
    "    # 인간 메시지는 멕시코와 태국 사이의 거리를 묻고, AI의 이름을 물음\n",
    "    HumanMessage(\n",
    "        content=\"What is the distance between Mexico and Thailand. Also what is your name?\"\n",
    "    )\n",
    "]\n",
    "# 정의된 메시지를 사용하여 대화 예측을 실행함\n",
    "chat.predict_messages(messages)"
   ]
  }
 ],
 "metadata": {
  "kernelspec": {
   "display_name": "env",
   "language": "python",
   "name": "python3"
  },
  "language_info": {
   "codemirror_mode": {
    "name": "ipython",
    "version": 3
   },
   "file_extension": ".py",
   "mimetype": "text/x-python",
   "name": "python",
   "nbconvert_exporter": "python",
   "pygments_lexer": "ipython3",
   "version": "3.11.5"
  }
 },
 "nbformat": 4,
 "nbformat_minor": 2
}
